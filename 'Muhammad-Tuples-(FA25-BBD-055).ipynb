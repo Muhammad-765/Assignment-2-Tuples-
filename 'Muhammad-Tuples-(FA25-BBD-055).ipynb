{
 "cells": [
  {
   "cell_type": "markdown",
   "id": "a401c1dc",
   "metadata": {},
   "source": [
    "# Name:Muhammad\n",
    "# Roll.No:FA25-BBD-055"
   ]
  },
  {
   "cell_type": "code",
   "execution_count": 1,
   "id": "18baba3f",
   "metadata": {},
   "outputs": [
    {
     "name": "stdout",
     "output_type": "stream",
     "text": [
      "('Muhammad', 20, 5.9)\n",
      "20\n"
     ]
    }
   ],
   "source": [
    "# Task 1\n",
    "my_info =('Muhammad',20,5.9)\n",
    "print(my_info)\n",
    "print(my_info[1])"
   ]
  },
  {
   "cell_type": "code",
   "execution_count": 2,
   "id": "ce5567cf",
   "metadata": {},
   "outputs": [
    {
     "name": "stdout",
     "output_type": "stream",
     "text": [
      "<class 'tuple'>\n"
     ]
    }
   ],
   "source": [
    "# Task 2\n",
    "single_day =('Monday',)\n",
    "print(type(single_day))"
   ]
  },
  {
   "cell_type": "code",
   "execution_count": 3,
   "id": "8a16d8b3",
   "metadata": {},
   "outputs": [
    {
     "name": "stdout",
     "output_type": "stream",
     "text": [
      "Jupiter\n",
      "Earth\n"
     ]
    }
   ],
   "source": [
    "# Task 3\n",
    "planets = ('Mercury', 'Venus', 'Earth', 'Mars', 'Jupiter')\n",
    "print(planets[-1])\n",
    "print(planets[-3])"
   ]
  },
  {
   "cell_type": "code",
   "execution_count": 4,
   "id": "d594b0ab",
   "metadata": {},
   "outputs": [
    {
     "name": "stdout",
     "output_type": "stream",
     "text": [
      "(1, 2, 3, 4, 5, 6)\n"
     ]
    }
   ],
   "source": [
    "# Task 4\n",
    "front_numbers = (1, 2, 3)\n",
    "back_numbers = (4, 5, 6)\n",
    "combined_numbers = front_numbers + back_numbers\n",
    "print(combined_numbers)"
   ]
  },
  {
   "cell_type": "code",
   "execution_count": 5,
   "id": "fbe4f5cd",
   "metadata": {},
   "outputs": [
    {
     "name": "stdout",
     "output_type": "stream",
     "text": [
      "('⭐', '⭐', '⭐')\n"
     ]
    }
   ],
   "source": [
    "# Task 5\n",
    "icon = ('⭐',)\n",
    "ratings = icon * 3\n",
    "print(ratings)"
   ]
  },
  {
   "cell_type": "code",
   "execution_count": 6,
   "id": "48dd37b9",
   "metadata": {},
   "outputs": [
    {
     "ename": "TypeError",
     "evalue": "'tuple' object does not support item assignment",
     "output_type": "error",
     "traceback": [
      "\u001b[1;31m---------------------------------------------------------------------------\u001b[0m",
      "\u001b[1;31mTypeError\u001b[0m                                 Traceback (most recent call last)",
      "Input \u001b[1;32mIn [6]\u001b[0m, in \u001b[0;36m<cell line: 3>\u001b[1;34m()\u001b[0m\n\u001b[0;32m      1\u001b[0m \u001b[38;5;66;03m# Task 6\u001b[39;00m\n\u001b[0;32m      2\u001b[0m status \u001b[38;5;241m=\u001b[39m (\u001b[38;5;124m'\u001b[39m\u001b[38;5;124mpending\u001b[39m\u001b[38;5;124m'\u001b[39m, \u001b[38;5;124m'\u001b[39m\u001b[38;5;124mprocessing\u001b[39m\u001b[38;5;124m'\u001b[39m, \u001b[38;5;124m'\u001b[39m\u001b[38;5;124mcompleted\u001b[39m\u001b[38;5;124m'\u001b[39m)\n\u001b[1;32m----> 3\u001b[0m status[\u001b[38;5;241m0\u001b[39m] \u001b[38;5;241m=\u001b[39m (\u001b[38;5;124m'\u001b[39m\u001b[38;5;124mfailed\u001b[39m\u001b[38;5;124m'\u001b[39m)\n",
      "\u001b[1;31mTypeError\u001b[0m: 'tuple' object does not support item assignment"
     ]
    }
   ],
   "source": [
    "# Task 6\n",
    "status = ('pending', 'processing', 'completed')\n",
    "status[0] = ('failed')\n",
    "#typeError accured because the a tuple is immutable(cannot be modified). "
   ]
  },
  {
   "cell_type": "code",
   "execution_count": 7,
   "id": "116abf01",
   "metadata": {},
   "outputs": [
    {
     "name": "stdout",
     "output_type": "stream",
     "text": [
      "(30, 40, 50)\n",
      "(10, 20, 30, 40)\n"
     ]
    }
   ],
   "source": [
    "# Task 7\n",
    "data = (10, 20, 30, 40, 50, 60, 70)\n",
    "print(data[2:5])\n",
    "print(data[:4])"
   ]
  },
  {
   "cell_type": "code",
   "execution_count": 8,
   "id": "c7897b85",
   "metadata": {},
   "outputs": [
    {
     "name": "stdout",
     "output_type": "stream",
     "text": [
      "4\n",
      "4\n"
     ]
    }
   ],
   "source": [
    "# Task 8\n",
    "results = ('pass', 'fail', 'pass', 'pass', 'defer', 'pass')\n",
    "print(results.count('pass'))\n",
    "print(results.index('defer'))"
   ]
  },
  {
   "cell_type": "code",
   "execution_count": null,
   "id": "1ff825df",
   "metadata": {},
   "outputs": [],
   "source": []
  }
 ],
 "metadata": {
  "kernelspec": {
   "display_name": "Python 3 (ipykernel)",
   "language": "python",
   "name": "python3"
  },
  "language_info": {
   "codemirror_mode": {
    "name": "ipython",
    "version": 3
   },
   "file_extension": ".py",
   "mimetype": "text/x-python",
   "name": "python",
   "nbconvert_exporter": "python",
   "pygments_lexer": "ipython3",
   "version": "3.9.12"
  }
 },
 "nbformat": 4,
 "nbformat_minor": 5
}
